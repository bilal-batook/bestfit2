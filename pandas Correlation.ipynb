{
 "cells": [
  {
   "cell_type": "code",
   "execution_count": 8,
   "metadata": {},
   "outputs": [],
   "source": [
    "import pandas as pd\n",
    "\n",
    "\n",
    "\n"
   ]
  },
  {
   "cell_type": "code",
   "execution_count": 9,
   "metadata": {},
   "outputs": [
    {
     "name": "stdout",
     "output_type": "stream",
     "text": [
      "Collecting package metadata (current_repodata.json): ...working... done\n",
      "Solving environment: ...working... done\n",
      "\n",
      "## Package Plan ##\n",
      "\n",
      "  environment location: C:\\Users\\92341\\Anaconda3\n",
      "\n",
      "  added / updated specs:\n",
      "    - pandas-datareader\n",
      "\n",
      "\n",
      "The following packages will be downloaded:\n",
      "\n",
      "    package                    |            build\n",
      "    ---------------------------|-----------------\n",
      "    conda-4.8.0                |           py37_1         2.8 MB\n",
      "    pandas-datareader-0.8.1    |             py_0          71 KB\n",
      "    ------------------------------------------------------------\n",
      "                                           Total:         2.9 MB\n",
      "\n",
      "The following NEW packages will be INSTALLED:\n",
      "\n",
      "  pandas-datareader  pkgs/main/noarch::pandas-datareader-0.8.1-py_0\n",
      "\n",
      "The following packages will be UPDATED:\n",
      "\n",
      "  conda                                       4.7.12-py37_0 --> 4.8.0-py37_1\n",
      "\n",
      "\n",
      "\n",
      "Downloading and Extracting Packages\n",
      "\n",
      "pandas-datareader-0. | 71 KB     |            |   0% \n",
      "pandas-datareader-0. | 71 KB     | ########## | 100% \n",
      "\n",
      "conda-4.8.0          | 2.8 MB    |            |   0% \n",
      "conda-4.8.0          | 2.8 MB    | 4          |   4% \n",
      "conda-4.8.0          | 2.8 MB    | 8          |   9% \n",
      "conda-4.8.0          | 2.8 MB    | #6         |  16% \n",
      "conda-4.8.0          | 2.8 MB    | #8         |  19% \n",
      "conda-4.8.0          | 2.8 MB    | ##3        |  23% \n",
      "conda-4.8.0          | 2.8 MB    | ##6        |  27% \n",
      "conda-4.8.0          | 2.8 MB    | ##9        |  30% \n",
      "conda-4.8.0          | 2.8 MB    | ###3       |  33% \n",
      "conda-4.8.0          | 2.8 MB    | ###5       |  36% \n",
      "conda-4.8.0          | 2.8 MB    | ###8       |  39% \n",
      "conda-4.8.0          | 2.8 MB    | ####       |  41% \n",
      "conda-4.8.0          | 2.8 MB    | ####3      |  43% \n",
      "conda-4.8.0          | 2.8 MB    | ####5      |  45% \n",
      "conda-4.8.0          | 2.8 MB    | ####7      |  47% \n",
      "conda-4.8.0          | 2.8 MB    | ####8      |  49% \n",
      "conda-4.8.0          | 2.8 MB    | #####      |  50% \n",
      "conda-4.8.0          | 2.8 MB    | #####2     |  52% \n",
      "conda-4.8.0          | 2.8 MB    | #####3     |  54% \n",
      "conda-4.8.0          | 2.8 MB    | #####5     |  55% \n",
      "conda-4.8.0          | 2.8 MB    | #####6     |  57% \n",
      "conda-4.8.0          | 2.8 MB    | #####8     |  59% \n",
      "conda-4.8.0          | 2.8 MB    | ######     |  60% \n",
      "conda-4.8.0          | 2.8 MB    | ######1    |  62% \n",
      "conda-4.8.0          | 2.8 MB    | ######3    |  64% \n",
      "conda-4.8.0          | 2.8 MB    | ######5    |  65% \n",
      "conda-4.8.0          | 2.8 MB    | ######6    |  67% \n",
      "conda-4.8.0          | 2.8 MB    | ######8    |  69% \n",
      "conda-4.8.0          | 2.8 MB    | #######    |  71% \n",
      "conda-4.8.0          | 2.8 MB    | #######5   |  75% \n",
      "conda-4.8.0          | 2.8 MB    | ########   |  80% \n",
      "conda-4.8.0          | 2.8 MB    | ########6  |  87% \n",
      "conda-4.8.0          | 2.8 MB    | #########5 |  96% \n",
      "conda-4.8.0          | 2.8 MB    | ########## | 100% \n",
      "Preparing transaction: ...working... done\n",
      "Verifying transaction: ...working... done\n",
      "Executing transaction: ...working... done\n",
      "\n",
      "Note: you may need to restart the kernel to use updated packages.\n"
     ]
    }
   ],
   "source": [
    "conda install pandas-datareader\n"
   ]
  },
  {
   "cell_type": "code",
   "execution_count": 3,
   "metadata": {},
   "outputs": [],
   "source": [
    "#Correlation and Covariance\n",
    "\n",
    "import pandas_datareader.data as web \n",
    "import pandas as pd\n",
    "\n",
    "from pandas import Series, DataFrame\n",
    "import numpy as np"
   ]
  },
  {
   "cell_type": "code",
   "execution_count": 10,
   "metadata": {},
   "outputs": [],
   "source": [
    "all_data = {ticker: web.get_data_yahoo(ticker)\n",
    "for ticker in ['AAPL', 'IBM', 'MSFT', 'GOOG']}\n",
    "\n"
   ]
  },
  {
   "cell_type": "code",
   "execution_count": 12,
   "metadata": {},
   "outputs": [],
   "source": [
    "price = pd.DataFrame({ticker: data['Adj Close']\n",
    "for ticker, data in all_data.items()}) "
   ]
  },
  {
   "cell_type": "code",
   "execution_count": 13,
   "metadata": {},
   "outputs": [],
   "source": [
    "volume = pd.DataFrame({ticker: data['Volume']  \n",
    "for ticker, data in all_data.items()})"
   ]
  },
  {
   "cell_type": "code",
   "execution_count": 15,
   "metadata": {},
   "outputs": [
    {
     "ename": "SyntaxError",
     "evalue": "invalid syntax (<ipython-input-15-25cd6ce95bef>, line 1)",
     "output_type": "error",
     "traceback": [
      "\u001b[1;36m  File \u001b[1;32m\"<ipython-input-15-25cd6ce95bef>\"\u001b[1;36m, line \u001b[1;32m1\u001b[0m\n\u001b[1;33m    returns price.pct_change()\u001b[0m\n\u001b[1;37m                ^\u001b[0m\n\u001b[1;31mSyntaxError\u001b[0m\u001b[1;31m:\u001b[0m invalid syntax\n"
     ]
    }
   ],
   "source": [
    "returns price.pct_change()\n",
    "returns.tail()"
   ]
  },
  {
   "cell_type": "code",
   "execution_count": null,
   "metadata": {},
   "outputs": [],
   "source": []
  }
 ],
 "metadata": {
  "kernelspec": {
   "display_name": "Python 3",
   "language": "python",
   "name": "python3"
  },
  "language_info": {
   "codemirror_mode": {
    "name": "ipython",
    "version": 3
   },
   "file_extension": ".py",
   "mimetype": "text/x-python",
   "name": "python",
   "nbconvert_exporter": "python",
   "pygments_lexer": "ipython3",
   "version": "3.7.4"
  }
 },
 "nbformat": 4,
 "nbformat_minor": 2
}
